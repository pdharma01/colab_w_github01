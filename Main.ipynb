{
  "nbformat": 4,
  "nbformat_minor": 0,
  "metadata": {
    "colab": {
      "name": "Main.ipynb",
      "provenance": [],
      "authorship_tag": "ABX9TyOsLDiRpRBH+aG+Gkmdd4Y6",
      "include_colab_link": true
    },
    "kernelspec": {
      "name": "python3",
      "display_name": "Python 3"
    }
  },
  "cells": [
    {
      "cell_type": "markdown",
      "metadata": {
        "id": "view-in-github",
        "colab_type": "text"
      },
      "source": [
        "<a href=\"https://colab.research.google.com/github/pdharma01/colab_w_github01/blob/master/Main.ipynb\" target=\"_parent\"><img src=\"https://colab.research.google.com/assets/colab-badge.svg\" alt=\"Open In Colab\"/></a>"
      ]
    },
    {
      "cell_type": "markdown",
      "metadata": {
        "id": "8dA8rey06fBU",
        "colab_type": "text"
      },
      "source": [
        "This is main"
      ]
    },
    {
      "cell_type": "code",
      "metadata": {
        "id": "15Dnh7he6YA-",
        "colab_type": "code",
        "colab": {}
      },
      "source": [
        "print(\"This is Main\")"
      ],
      "execution_count": 0,
      "outputs": []
    }
  ]
}