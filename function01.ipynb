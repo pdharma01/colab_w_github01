{
  "nbformat": 4,
  "nbformat_minor": 0,
  "metadata": {
    "colab": {
      "name": "function01.ipynb",
      "provenance": [],
      "collapsed_sections": [],
      "authorship_tag": "ABX9TyOnv3wK4uLFRoUbPKpu3jrG",
      "include_colab_link": true
    },
    "kernelspec": {
      "name": "python3",
      "display_name": "Python 3"
    }
  },
  "cells": [
    {
      "cell_type": "markdown",
      "metadata": {
        "id": "view-in-github",
        "colab_type": "text"
      },
      "source": [
        "<a href=\"https://colab.research.google.com/github/pdharma01/colab_w_github01/blob/master/function01.ipynb\" target=\"_parent\"><img src=\"https://colab.research.google.com/assets/colab-badge.svg\" alt=\"Open In Colab\"/></a>"
      ]
    },
    {
      "cell_type": "code",
      "metadata": {
        "id": "_vVryS-ggM_7",
        "colab_type": "code",
        "colab": {}
      },
      "source": [
        "def function01(x):\n",
        "  print(f\"This is function 1 : {x} + 5 = {x+5}\")"
      ],
      "execution_count": 0,
      "outputs": []
    },
    {
      "cell_type": "code",
      "metadata": {
        "id": "exrJ1zGXhmXT",
        "colab_type": "code",
        "colab": {}
      },
      "source": [
        "def function02(x):\n",
        "  print(f\"This is function 2 : {x} + 100 = {x+100}\")"
      ],
      "execution_count": 0,
      "outputs": []
    },
    {
      "cell_type": "code",
      "metadata": {
        "id": "V9WzJxamgmIO",
        "colab_type": "code",
        "outputId": "546f641a-f549-4d38-9b19-68cfa4069f14",
        "colab": {
          "base_uri": "https://localhost:8080/",
          "height": 34
        }
      },
      "source": [
        "function01(5)"
      ],
      "execution_count": 0,
      "outputs": [
        {
          "output_type": "stream",
          "text": [
            "This is function01 : 5 + 5 = 10\n"
          ],
          "name": "stdout"
        }
      ]
    }
  ]
}